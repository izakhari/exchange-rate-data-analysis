{
 "cells": [
  {
   "cell_type": "code",
   "execution_count": null,
   "metadata": {},
   "outputs": [],
   "source": [
    "##Install required packages\n",
    "%pip install requests"
   ]
  },
  {
   "cell_type": "code",
   "execution_count": null,
   "metadata": {},
   "outputs": [],
   "source": [
    "##Set environment variables\n",
    "API_KEY = 'c371a6459a5da68849ba610e99bae343'"
   ]
  },
  {
   "cell_type": "code",
   "execution_count": null,
   "metadata": {},
   "outputs": [],
   "source": [
    "#A function that takes a start date and end date and generates a list of datetime objects of all dates between (inclusive)\n",
    "#This function will be used later on to call the loop the API call to retrieve historical data over a given date range\n",
    "from datetime import date, timedelta\n",
    "\n",
    "def daterange(start_date, end_date):\n",
    "    for n in range(int((end_date - start_date).days)):\n",
    "        yield start_date + timedelta(n)"
   ]
  },
  {
   "cell_type": "code",
   "execution_count": null,
   "metadata": {},
   "outputs": [],
   "source": [
    "# This cell uses the daterange function and loops through the set of dates, calling the API for each day within the range\n",
    "# The final output of this loop will be a list containing a json object for each day's exchange rate\n",
    "import requests\n",
    "import json\n",
    "start_date = date(2024, 4, 27)\n",
    "end_date = date(2024, 5, 27)\n",
    "currency_info = []\n",
    "\n",
    "for day in daterange(start_date, end_date):\n",
    "    #Call the API and parse the JSON output\n",
    "    day_currency_info = requests.get('http://api.exchangeratesapi.io/v1/'+day.strftime(\"%Y-%m-%d\")+'?access_key='+API_KEY+'&base=AUD&symbols=NZD')\n",
    "    day_parsed_currency_info = json.loads(day_currency_info.text)\n",
    "    currency_info.append(day_parsed_currency_info)\n",
    "\n",
    "print(json.dumps(currency_info, indent=4))"
   ]
  },
  {
   "cell_type": "code",
   "execution_count": null,
   "metadata": {},
   "outputs": [],
   "source": [
    "i=0\n",
    "exchange_rates = []\n",
    "for day in currency_info:\n",
    "    exchange_rates.append(currency_info[i][\"rates\"][\"NZD\"])\n",
    "    i+=1\n",
    "print(exchange_rates)\n"
   ]
  },
  {
   "cell_type": "code",
   "execution_count": null,
   "metadata": {},
   "outputs": [],
   "source": [
    "print(len(exchange_rates))"
   ]
  }
 ],
 "metadata": {
  "kernelspec": {
   "display_name": "Python 3",
   "language": "python",
   "name": "python3"
  },
  "language_info": {
   "codemirror_mode": {
    "name": "ipython",
    "version": 3
   },
   "file_extension": ".py",
   "mimetype": "text/x-python",
   "name": "python",
   "nbconvert_exporter": "python",
   "pygments_lexer": "ipython3",
   "version": "3.12.3"
  }
 },
 "nbformat": 4,
 "nbformat_minor": 2
}
