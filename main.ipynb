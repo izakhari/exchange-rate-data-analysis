{
 "cells": [
  {
   "cell_type": "code",
   "execution_count": null,
   "metadata": {},
   "outputs": [],
   "source": [
    "##Install required packages\n",
    "%pip install requests"
   ]
  },
  {
   "cell_type": "code",
   "execution_count": null,
   "metadata": {},
   "outputs": [],
   "source": [
    "##Set environment variables\n",
    "API_KEY = 'c4272fe0a7d2e0b3b2212c9da9af3425'"
   ]
  },
  {
   "cell_type": "code",
   "execution_count": null,
   "metadata": {},
   "outputs": [],
   "source": [
    "#Call the API and parse the JSON output\n",
    "import requests\n",
    "import json\n",
    "\n",
    "output = requests.get('http://api.exchangeratesapi.io/v1/latest?access_key='+API_KEY)\n",
    "\n",
    "parsed_output = json.loads(output.text)\n",
    "print(json.dumps(parsed_output, indent=4))"
   ]
  },
  {
   "cell_type": "code",
   "execution_count": null,
   "metadata": {},
   "outputs": [],
   "source": [
    "#A function that takes a start date and end date and generates a list of datetime objects of all dates between (inclusive)\n",
    "#This function will be used later on to call the loop the API call to retrieve historical data over a given date range\n",
    "from datetime import date, timedelta\n",
    "import requests\n",
    "import json\n",
    "\n",
    "def daterange(start_date, end_date):\n",
    "    for n in range(int((end_date - start_date).days)):\n",
    "        yield start_date + timedelta(n)\n",
    "\n",
    "start_date = date(2024, 4, 27)\n",
    "end_date = date(2024, 4, 30)\n",
    "output = []\n",
    "\n",
    "for day in daterange(start_date, end_date):\n",
    "    #Call the API and parse the JSON output\n",
    "    day_output = requests.get('http://api.exchangeratesapi.io/v1/'+day.strftime(\"%Y-%m-%d\")+'?access_key='+API_KEY)\n",
    "    day_parsed_output = json.loads(day_output.text)\n",
    "    output.append(day_parsed_output)\n",
    "\n",
    "print(json.dumps(output, indent=4))\n"
   ]
  },
  {
   "cell_type": "code",
   "execution_count": null,
   "metadata": {},
   "outputs": [],
   "source": [
    "\n"
   ]
  },
  {
   "cell_type": "code",
   "execution_count": null,
   "metadata": {},
   "outputs": [],
   "source": [
    "#Call the API and parse the JSON output\n",
    "import requests\n",
    "import json\n",
    "date = '2024-04-27'\n",
    "\n",
    "output = requests.get('http://api.exchangeratesapi.io/v1/'+date+'?access_key='+API_KEY)\n",
    "\n",
    "parsed_output = json.loads(output.text)\n",
    "print(json.dumps(parsed_output, indent=4))"
   ]
  },
  {
   "cell_type": "code",
   "execution_count": null,
   "metadata": {},
   "outputs": [],
   "source": [
    "aud = parsed_output[\"rates\"][\"AUD\"]"
   ]
  },
  {
   "cell_type": "code",
   "execution_count": null,
   "metadata": {},
   "outputs": [],
   "source": []
  }
 ],
 "metadata": {
  "kernelspec": {
   "display_name": "Python 3",
   "language": "python",
   "name": "python3"
  },
  "language_info": {
   "codemirror_mode": {
    "name": "ipython",
    "version": 3
   },
   "file_extension": ".py",
   "mimetype": "text/x-python",
   "name": "python",
   "nbconvert_exporter": "python",
   "pygments_lexer": "ipython3",
   "version": "3.12.3"
  }
 },
 "nbformat": 4,
 "nbformat_minor": 2
}
